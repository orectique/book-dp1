{
 "cells": [
  {
   "cell_type": "code",
   "execution_count": 4,
   "metadata": {},
   "outputs": [],
   "source": [
    "header = \"\"\"---\n",
    "jupytext:\n",
    "  text_representation:\n",
    "    extension: .md\n",
    "    format_name: myst\n",
    "kernelspec:\n",
    "  display_name: Julia\n",
    "  language: julia\n",
    "  name: julia-1.9\n",
    "---\n",
    "\n",
    "(getting_started)=\n",
    "```{raw} html\n",
    "<div id=\"qe-notebook-header\" style=\"text-align:right;\">\n",
    "        <a href=\"https://quantecon.org/\" title=\"quantecon.org\">\n",
    "                <img style=\"width:250px;display:inline;\" src=\"https://assets.quantecon.org/img/qe-menubar-logo.svg\" alt=\"QuantEcon\">\n",
    "        </a>\n",
    "</div>\n",
    "```\n",
    "\"\"\"\n",
    "\n",
    "contents = \"\"\"\n",
    "```{contents} Contents\n",
    ":depth: 2\n",
    "```\n",
    "\"\"\"\n",
    "chapter_meta = {\"introductions\" : {\"name\" : \"Introductions\", \"subs\" : [\"two_period_job_search.jl\", \"compute_spec_rad.jl\", \"power_series.jl\", \"s_approx.jl\", \"linear_iter.jl\", \"iid_job_search.jl\"]},\n",
    "\"operators_fixed_points\" : {\"name\" : \"Operators and Fixed Points\", \"subs\" : [\"lake.jl\"]},\n",
    "\"markov_dynamics\": {\"name\" : \"Markov Dynamics\", \"subs\" : [\"inventory_sim.jl\", \"is_irreducible.jl\", \"inventory_sim.jl\", \"laborer_sim.jl\", \"markov_js.jl\", \"markov_js_with_sep.jl\"]},\n",
    "\"optimal_stopping\" : {\"name\" : \"Optimal Stopping\", \"subs\" : [\"firm_exit.jl\", \"american_option.jl\"]},\n",
    "\"markov_decision_processes\" : {\"name\" : \"Markov Decision Processes\", \"subs\" : [\"inventory_dp.jl\", \"finite_opt_saving_0.jl\", \"finite_opt_saving_1.jl\", \"finite_opt_saving_2.jl\", \"finite_lq.jl\", \"firm_hiring.jl\", \"modified_opt_savings.jl\"]},\n",
    "\"stochastic_discounting\" : {\"name\" : \"Stochastic Discounting\", \"subs\" : [\"plot_interest_rates.jl\", \"plot_interest_rates.jl\", \"pd_ratio.jl\", \"inventory_sdd.jl\"]},\n",
    "\"nonlinear_valuation\" : {\"name\" : \"Nonlinear Valuation\", \"subs\" : [\"rs_utility.jl\", \"ez_utility.jl\", ]}, \n",
    "\"recursive_decision_processes\" : {\"name\" : \"Recursive Decision Processes\", \"subs\" : [\"quantile_function.jl\", \"quantile_js.jl\"]}}"
   ]
  },
  {
   "attachments": {},
   "cell_type": "markdown",
   "metadata": {
    "notebookRunGroups": {
     "groupValue": ""
    }
   },
   "source": [
    "import os \n",
    "\n",
    "files = os.listdir('./source_code/')\n",
    "scripts = []\n",
    "\n",
    "scripts_text = []\n",
    "\n",
    "for key in chapter_meta.keys():\n",
    "    for sub in chapter_meta[key][\"subs\"]:\n",
    "        scripts.append(sub)\n",
    "\n",
    "        with open('./source_code/' + sub, 'r') as f:\n",
    "            scripts_text.append(f.read())\n",
    "sus = list(set(scripts) ^ set(files))\n",
    "sus.remove(\"data\")\n",
    "sus"
   ]
  },
  {
   "cell_type": "code",
   "execution_count": 6,
   "metadata": {},
   "outputs": [],
   "source": [
    "for chapter in chapter_meta.keys():\n",
    "    chapter_name = chapter_meta[chapter][\"name\"]\n",
    "    chapter_subs = chapter_meta[chapter][\"subs\"]\n",
    "    \n",
    "    with open(f\"{chapter}.md\", \"w\") as f:\n",
    "        f.write(header)\n",
    "        f.write(f\"# {chapter_name}\\n\\n\")\n",
    "        f.write(contents)\n",
    "        f.write(\"\\n\\n\")\n",
    "        for sub in chapter_subs:\n",
    "            f.write(f\"#### {sub}\\n\")\n",
    "            f.write(f\"```{{code-cell}} julia\\n\")\n",
    "            f.write(\":tags: [\\\"hide-input\\\"]\\n\\n\")\n",
    "\n",
    "            with open(sub, \"r\") as g:\n",
    "                f.write(g.read())\n",
    "            f.write(f\"```\\n\\n\")"
   ]
  },
  {
   "cell_type": "code",
   "execution_count": null,
   "metadata": {},
   "outputs": [],
   "source": []
  },
  {
   "cell_type": "code",
   "execution_count": null,
   "metadata": {},
   "outputs": [],
   "source": []
  }
 ],
 "metadata": {
  "kernelspec": {
   "display_name": "pyFin",
   "language": "python",
   "name": "python3"
  },
  "language_info": {
   "codemirror_mode": {
    "name": "ipython",
    "version": 3
   },
   "file_extension": ".py",
   "mimetype": "text/x-python",
   "name": "python",
   "nbconvert_exporter": "python",
   "pygments_lexer": "ipython3",
   "version": "3.11.4"
  },
  "orig_nbformat": 4
 },
 "nbformat": 4,
 "nbformat_minor": 2
}
